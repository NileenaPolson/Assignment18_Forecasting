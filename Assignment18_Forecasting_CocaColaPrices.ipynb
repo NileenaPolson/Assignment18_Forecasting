{
 "cells": [
  {
   "cell_type": "code",
   "execution_count": 52,
   "id": "5ba36c39",
   "metadata": {},
   "outputs": [],
   "source": [
    "import pandas as pd\n",
    "import matplotlib.pyplot as plt\n",
    "from math import sqrt\n",
    "from sklearn.metrics import mean_squared_error as mse\n",
    "from sklearn.metrics import mean_absolute_percentage_error as mape"
   ]
  },
  {
   "cell_type": "code",
   "execution_count": 2,
   "id": "6116acd5",
   "metadata": {},
   "outputs": [],
   "source": [
    "data = pd.read_excel(\"CocaCola_Sales_Rawdata.xlsx\")"
   ]
  },
  {
   "cell_type": "code",
   "execution_count": 3,
   "id": "07699540",
   "metadata": {},
   "outputs": [
    {
     "data": {
      "text/html": [
       "<div>\n",
       "<style scoped>\n",
       "    .dataframe tbody tr th:only-of-type {\n",
       "        vertical-align: middle;\n",
       "    }\n",
       "\n",
       "    .dataframe tbody tr th {\n",
       "        vertical-align: top;\n",
       "    }\n",
       "\n",
       "    .dataframe thead th {\n",
       "        text-align: right;\n",
       "    }\n",
       "</style>\n",
       "<table border=\"1\" class=\"dataframe\">\n",
       "  <thead>\n",
       "    <tr style=\"text-align: right;\">\n",
       "      <th></th>\n",
       "      <th>Sales</th>\n",
       "    </tr>\n",
       "    <tr>\n",
       "      <th>Quarter</th>\n",
       "      <th></th>\n",
       "    </tr>\n",
       "  </thead>\n",
       "  <tbody>\n",
       "    <tr>\n",
       "      <th>Q1_86</th>\n",
       "      <td>1734.827000</td>\n",
       "    </tr>\n",
       "    <tr>\n",
       "      <th>Q2_86</th>\n",
       "      <td>2244.960999</td>\n",
       "    </tr>\n",
       "    <tr>\n",
       "      <th>Q3_86</th>\n",
       "      <td>2533.804993</td>\n",
       "    </tr>\n",
       "    <tr>\n",
       "      <th>Q4_86</th>\n",
       "      <td>2154.962997</td>\n",
       "    </tr>\n",
       "    <tr>\n",
       "      <th>Q1_87</th>\n",
       "      <td>1547.818996</td>\n",
       "    </tr>\n",
       "    <tr>\n",
       "      <th>Q2_87</th>\n",
       "      <td>2104.411995</td>\n",
       "    </tr>\n",
       "    <tr>\n",
       "      <th>Q3_87</th>\n",
       "      <td>2014.362999</td>\n",
       "    </tr>\n",
       "    <tr>\n",
       "      <th>Q4_87</th>\n",
       "      <td>1991.746998</td>\n",
       "    </tr>\n",
       "    <tr>\n",
       "      <th>Q1_88</th>\n",
       "      <td>1869.049999</td>\n",
       "    </tr>\n",
       "    <tr>\n",
       "      <th>Q2_88</th>\n",
       "      <td>2313.631996</td>\n",
       "    </tr>\n",
       "    <tr>\n",
       "      <th>Q3_88</th>\n",
       "      <td>2128.320000</td>\n",
       "    </tr>\n",
       "    <tr>\n",
       "      <th>Q4_88</th>\n",
       "      <td>2026.828999</td>\n",
       "    </tr>\n",
       "    <tr>\n",
       "      <th>Q1_89</th>\n",
       "      <td>1910.603996</td>\n",
       "    </tr>\n",
       "    <tr>\n",
       "      <th>Q2_89</th>\n",
       "      <td>2331.164993</td>\n",
       "    </tr>\n",
       "    <tr>\n",
       "      <th>Q3_89</th>\n",
       "      <td>2206.549995</td>\n",
       "    </tr>\n",
       "    <tr>\n",
       "      <th>Q4_89</th>\n",
       "      <td>2173.967995</td>\n",
       "    </tr>\n",
       "    <tr>\n",
       "      <th>Q1_90</th>\n",
       "      <td>2148.278000</td>\n",
       "    </tr>\n",
       "    <tr>\n",
       "      <th>Q2_90</th>\n",
       "      <td>2739.307999</td>\n",
       "    </tr>\n",
       "    <tr>\n",
       "      <th>Q3_90</th>\n",
       "      <td>2792.753998</td>\n",
       "    </tr>\n",
       "    <tr>\n",
       "      <th>Q4_90</th>\n",
       "      <td>2556.009995</td>\n",
       "    </tr>\n",
       "    <tr>\n",
       "      <th>Q1_91</th>\n",
       "      <td>2480.973999</td>\n",
       "    </tr>\n",
       "    <tr>\n",
       "      <th>Q2_91</th>\n",
       "      <td>3039.522995</td>\n",
       "    </tr>\n",
       "    <tr>\n",
       "      <th>Q3_91</th>\n",
       "      <td>3172.115997</td>\n",
       "    </tr>\n",
       "    <tr>\n",
       "      <th>Q4_91</th>\n",
       "      <td>2879.000999</td>\n",
       "    </tr>\n",
       "    <tr>\n",
       "      <th>Q1_92</th>\n",
       "      <td>2772.000000</td>\n",
       "    </tr>\n",
       "    <tr>\n",
       "      <th>Q2_92</th>\n",
       "      <td>3550.000000</td>\n",
       "    </tr>\n",
       "    <tr>\n",
       "      <th>Q3_92</th>\n",
       "      <td>3508.000000</td>\n",
       "    </tr>\n",
       "    <tr>\n",
       "      <th>Q4_92</th>\n",
       "      <td>3243.859993</td>\n",
       "    </tr>\n",
       "    <tr>\n",
       "      <th>Q1_93</th>\n",
       "      <td>3056.000000</td>\n",
       "    </tr>\n",
       "    <tr>\n",
       "      <th>Q2_93</th>\n",
       "      <td>3899.000000</td>\n",
       "    </tr>\n",
       "    <tr>\n",
       "      <th>Q3_93</th>\n",
       "      <td>3629.000000</td>\n",
       "    </tr>\n",
       "    <tr>\n",
       "      <th>Q4_93</th>\n",
       "      <td>3373.000000</td>\n",
       "    </tr>\n",
       "    <tr>\n",
       "      <th>Q1_94</th>\n",
       "      <td>3352.000000</td>\n",
       "    </tr>\n",
       "    <tr>\n",
       "      <th>Q2_94</th>\n",
       "      <td>4342.000000</td>\n",
       "    </tr>\n",
       "    <tr>\n",
       "      <th>Q3_94</th>\n",
       "      <td>4461.000000</td>\n",
       "    </tr>\n",
       "    <tr>\n",
       "      <th>Q4_94</th>\n",
       "      <td>4017.000000</td>\n",
       "    </tr>\n",
       "    <tr>\n",
       "      <th>Q1_95</th>\n",
       "      <td>3854.000000</td>\n",
       "    </tr>\n",
       "    <tr>\n",
       "      <th>Q2_95</th>\n",
       "      <td>4936.000000</td>\n",
       "    </tr>\n",
       "    <tr>\n",
       "      <th>Q3_95</th>\n",
       "      <td>4895.000000</td>\n",
       "    </tr>\n",
       "    <tr>\n",
       "      <th>Q4_95</th>\n",
       "      <td>4333.000000</td>\n",
       "    </tr>\n",
       "    <tr>\n",
       "      <th>Q1_96</th>\n",
       "      <td>4194.000000</td>\n",
       "    </tr>\n",
       "    <tr>\n",
       "      <th>Q2_96</th>\n",
       "      <td>5253.000000</td>\n",
       "    </tr>\n",
       "  </tbody>\n",
       "</table>\n",
       "</div>"
      ],
      "text/plain": [
       "               Sales\n",
       "Quarter             \n",
       "Q1_86    1734.827000\n",
       "Q2_86    2244.960999\n",
       "Q3_86    2533.804993\n",
       "Q4_86    2154.962997\n",
       "Q1_87    1547.818996\n",
       "Q2_87    2104.411995\n",
       "Q3_87    2014.362999\n",
       "Q4_87    1991.746998\n",
       "Q1_88    1869.049999\n",
       "Q2_88    2313.631996\n",
       "Q3_88    2128.320000\n",
       "Q4_88    2026.828999\n",
       "Q1_89    1910.603996\n",
       "Q2_89    2331.164993\n",
       "Q3_89    2206.549995\n",
       "Q4_89    2173.967995\n",
       "Q1_90    2148.278000\n",
       "Q2_90    2739.307999\n",
       "Q3_90    2792.753998\n",
       "Q4_90    2556.009995\n",
       "Q1_91    2480.973999\n",
       "Q2_91    3039.522995\n",
       "Q3_91    3172.115997\n",
       "Q4_91    2879.000999\n",
       "Q1_92    2772.000000\n",
       "Q2_92    3550.000000\n",
       "Q3_92    3508.000000\n",
       "Q4_92    3243.859993\n",
       "Q1_93    3056.000000\n",
       "Q2_93    3899.000000\n",
       "Q3_93    3629.000000\n",
       "Q4_93    3373.000000\n",
       "Q1_94    3352.000000\n",
       "Q2_94    4342.000000\n",
       "Q3_94    4461.000000\n",
       "Q4_94    4017.000000\n",
       "Q1_95    3854.000000\n",
       "Q2_95    4936.000000\n",
       "Q3_95    4895.000000\n",
       "Q4_95    4333.000000\n",
       "Q1_96    4194.000000\n",
       "Q2_96    5253.000000"
      ]
     },
     "execution_count": 3,
     "metadata": {},
     "output_type": "execute_result"
    }
   ],
   "source": [
    "series=pd.read_excel(\"CocaCola_Sales_Rawdata.xlsx\",index_col=0,parse_dates=True)\n",
    "series"
   ]
  },
  {
   "cell_type": "code",
   "execution_count": 4,
   "id": "9642ecc9",
   "metadata": {},
   "outputs": [
    {
     "data": {
      "text/plain": [
       "42"
      ]
     },
     "execution_count": 4,
     "metadata": {},
     "output_type": "execute_result"
    }
   ],
   "source": [
    "len(series)"
   ]
  },
  {
   "cell_type": "code",
   "execution_count": 5,
   "id": "9f6284a5",
   "metadata": {},
   "outputs": [
    {
     "data": {
      "text/plain": [
       "(10, 2)"
      ]
     },
     "execution_count": 5,
     "metadata": {},
     "output_type": "execute_result"
    }
   ],
   "source": [
    "42//4,42%4"
   ]
  },
  {
   "cell_type": "markdown",
   "id": "4a10dc13",
   "metadata": {},
   "source": [
    "#### We have the quarterly details of coca cola prices over 10 consecutive years from 85 to 95 along with 2 quarter details of the 11th year "
   ]
  },
  {
   "cell_type": "code",
   "execution_count": 6,
   "id": "6ba767e1",
   "metadata": {},
   "outputs": [
    {
     "data": {
      "text/plain": [
       "<AxesSubplot:xlabel='Quarter'>"
      ]
     },
     "execution_count": 6,
     "metadata": {},
     "output_type": "execute_result"
    },
    {
     "data": {
      "image/png": "[encoded data removed]",
      "text/plain": [
       "<Figure size 432x288 with 1 Axes>"
      ]
     },
     "metadata": {
      "needs_background": "light"
     },
     "output_type": "display_data"
    }
   ],
   "source": [
    "series.plot(use_index=True)"
   ]
  },
  {
   "cell_type": "markdown",
   "id": "4659da4f",
   "metadata": {},
   "source": [
    "#### Here we see that there is an increasing trend in coca cola prices over the 11 years. "
   ]
  },
  {
   "cell_type": "code",
   "execution_count": 7,
   "id": "c6a0a7c9",
   "metadata": {},
   "outputs": [
    {
     "data": {
      "text/plain": [
       "<AxesSubplot:ylabel='Density'>"
      ]
     },
     "execution_count": 7,
     "metadata": {},
     "output_type": "execute_result"
    },
    {
     "data": {
      "image/png": "[encoded data removed]",
      "text/plain": [
       "<Figure size 432x288 with 1 Axes>"
      ]
     },
     "metadata": {
      "needs_background": "light"
     },
     "output_type": "display_data"
    },
    {
     "data": {
      "image/png": "[encoded data removed]",
      "text/plain": [
       "<Figure size 432x288 with 1 Axes>"
      ]
     },
     "metadata": {
      "needs_background": "light"
     },
     "output_type": "display_data"
    }
   ],
   "source": [
    "series.hist()\n",
    "series.plot(kind='kde')"
   ]
  },
  {
   "cell_type": "markdown",
   "id": "2efa4ccc",
   "metadata": {},
   "source": [
    "#### Here we get a skewed graph as there is an increasing trend"
   ]
  },
  {
   "cell_type": "code",
   "execution_count": 8,
   "id": "ff0ba469",
   "metadata": {},
   "outputs": [
    {
     "data": {
      "text/html": [
       "<div>\n",
       "<style scoped>\n",
       "    .dataframe tbody tr th:only-of-type {\n",
       "        vertical-align: middle;\n",
       "    }\n",
       "\n",
       "    .dataframe tbody tr th {\n",
       "        vertical-align: top;\n",
       "    }\n",
       "\n",
       "    .dataframe thead th {\n",
       "        text-align: right;\n",
       "    }\n",
       "</style>\n",
       "<table border=\"1\" class=\"dataframe\">\n",
       "  <thead>\n",
       "    <tr style=\"text-align: right;\">\n",
       "      <th></th>\n",
       "      <th>86</th>\n",
       "      <th>87</th>\n",
       "      <th>88</th>\n",
       "      <th>89</th>\n",
       "      <th>90</th>\n",
       "      <th>91</th>\n",
       "      <th>92</th>\n",
       "      <th>93</th>\n",
       "      <th>94</th>\n",
       "      <th>95</th>\n",
       "      <th>96</th>\n",
       "    </tr>\n",
       "  </thead>\n",
       "  <tbody>\n",
       "    <tr>\n",
       "      <th>0</th>\n",
       "      <td>1734.827000</td>\n",
       "      <td>1547.818996</td>\n",
       "      <td>1869.049999</td>\n",
       "      <td>1910.603996</td>\n",
       "      <td>2148.278000</td>\n",
       "      <td>2480.973999</td>\n",
       "      <td>2772.000000</td>\n",
       "      <td>3056.0</td>\n",
       "      <td>3352.0</td>\n",
       "      <td>3854.0</td>\n",
       "      <td>4194.0</td>\n",
       "    </tr>\n",
       "    <tr>\n",
       "      <th>1</th>\n",
       "      <td>2244.960999</td>\n",
       "      <td>2104.411995</td>\n",
       "      <td>2313.631996</td>\n",
       "      <td>2331.164993</td>\n",
       "      <td>2739.307999</td>\n",
       "      <td>3039.522995</td>\n",
       "      <td>3550.000000</td>\n",
       "      <td>3899.0</td>\n",
       "      <td>4342.0</td>\n",
       "      <td>4936.0</td>\n",
       "      <td>5253.0</td>\n",
       "    </tr>\n",
       "    <tr>\n",
       "      <th>2</th>\n",
       "      <td>2533.804993</td>\n",
       "      <td>2014.362999</td>\n",
       "      <td>2128.320000</td>\n",
       "      <td>2206.549995</td>\n",
       "      <td>2792.753998</td>\n",
       "      <td>3172.115997</td>\n",
       "      <td>3508.000000</td>\n",
       "      <td>3629.0</td>\n",
       "      <td>4461.0</td>\n",
       "      <td>4895.0</td>\n",
       "      <td>0.0</td>\n",
       "    </tr>\n",
       "    <tr>\n",
       "      <th>3</th>\n",
       "      <td>2154.962997</td>\n",
       "      <td>1991.746998</td>\n",
       "      <td>2026.828999</td>\n",
       "      <td>2173.967995</td>\n",
       "      <td>2556.009995</td>\n",
       "      <td>2879.000999</td>\n",
       "      <td>3243.859993</td>\n",
       "      <td>3373.0</td>\n",
       "      <td>4017.0</td>\n",
       "      <td>4333.0</td>\n",
       "      <td>0.0</td>\n",
       "    </tr>\n",
       "  </tbody>\n",
       "</table>\n",
       "</div>"
      ],
      "text/plain": [
       "            86           87           88           89           90  \\\n",
       "0  1734.827000  1547.818996  1869.049999  1910.603996  2148.278000   \n",
       "1  2244.960999  2104.411995  2313.631996  2331.164993  2739.307999   \n",
       "2  2533.804993  2014.362999  2128.320000  2206.549995  2792.753998   \n",
       "3  2154.962997  1991.746998  2026.828999  2173.967995  2556.009995   \n",
       "\n",
       "            91           92      93      94      95      96  \n",
       "0  2480.973999  2772.000000  3056.0  3352.0  3854.0  4194.0  \n",
       "1  3039.522995  3550.000000  3899.0  4342.0  4936.0  5253.0  \n",
       "2  3172.115997  3508.000000  3629.0  4461.0  4895.0     0.0  \n",
       "3  2879.000999  3243.859993  3373.0  4017.0  4333.0     0.0  "
      ]
     },
     "execution_count": 8,
     "metadata": {},
     "output_type": "execute_result"
    }
   ],
   "source": [
    "df=pd.DataFrame()\n",
    "for i in range(0,41,4):\n",
    "    \n",
    "    year=series.index[i]\n",
    "    end=i+4\n",
    "\n",
    "    if(i==40):\n",
    "        last_list=list(data[\"Sales\"][i:])\n",
    "        last_list.append(0)\n",
    "        last_list.append(0)\n",
    "        df[year[3:]]=last_list\n",
    "        \n",
    "    else:\n",
    "        df[year[3:]]=list(data[\"Sales\"][i:end])\n",
    "\n",
    "df    \n"
   ]
  },
  {
   "cell_type": "code",
   "execution_count": 9,
   "id": "44107cab",
   "metadata": {},
   "outputs": [
    {
     "data": {
      "text/plain": [
       "<AxesSubplot:>"
      ]
     },
     "execution_count": 9,
     "metadata": {},
     "output_type": "execute_result"
    },
    {
     "data": {
      "image/png": "[encoded data removed]",
      "text/plain": [
       "<Figure size 432x288 with 1 Axes>"
      ]
     },
     "metadata": {
      "needs_background": "light"
     },
     "output_type": "display_data"
    }
   ],
   "source": [
    "df.boxplot()"
   ]
  },
  {
   "cell_type": "markdown",
   "id": "1b325135",
   "metadata": {},
   "source": [
    "#### We see that there are outliers during the years 87 and 89"
   ]
  },
  {
   "cell_type": "code",
   "execution_count": 10,
   "id": "dd25600e",
   "metadata": {},
   "outputs": [],
   "source": [
    "from pandas.plotting import lag_plot\n",
    "from statsmodels.graphics.tsaplots import plot_acf"
   ]
  },
  {
   "cell_type": "code",
   "execution_count": 11,
   "id": "e35202dd",
   "metadata": {},
   "outputs": [
    {
     "data": {
      "text/plain": [
       "<AxesSubplot:xlabel='y(t)', ylabel='y(t + 4)'>"
      ]
     },
     "execution_count": 11,
     "metadata": {},
     "output_type": "execute_result"
    },
    {
     "data": {
      "image/png": "[encoded data removed]",
      "text/plain": [
       "<Figure size 432x288 with 1 Axes>"
      ]
     },
     "metadata": {
      "needs_background": "light"
     },
     "output_type": "display_data"
    }
   ],
   "source": [
    "lag_plot(series,lag=4)"
   ]
  },
  {
   "cell_type": "markdown",
   "id": "62f42cf9",
   "metadata": {},
   "source": [
    "#### Here we see how each quarter affects the same quarter of the next year"
   ]
  },
  {
   "cell_type": "code",
   "execution_count": 12,
   "id": "47f8e616",
   "metadata": {},
   "outputs": [
    {
     "data": {
      "image/png": "[encoded data removed]",
      "text/plain": [
       "<Figure size 432x288 with 1 Axes>"
      ]
     },
     "metadata": {
      "needs_background": "light"
     },
     "output_type": "display_data"
    }
   ],
   "source": [
    "acf=plot_acf(series,lags=4)"
   ]
  },
  {
   "cell_type": "markdown",
   "id": "37b7cce8",
   "metadata": {},
   "source": [
    "### Splitting of data"
   ]
  },
  {
   "cell_type": "code",
   "execution_count": 38,
   "id": "8adcca01",
   "metadata": {},
   "outputs": [],
   "source": [
    "train = series.head(9*4)\n",
    "test = series.tail(6)"
   ]
  },
  {
   "cell_type": "markdown",
   "id": "857cc2ae",
   "metadata": {},
   "source": [
    "## Smoothening techniques "
   ]
  },
  {
   "cell_type": "markdown",
   "id": "c44dc97e",
   "metadata": {},
   "source": [
    "### Moving Average"
   ]
  },
  {
   "cell_type": "code",
   "execution_count": 14,
   "id": "551626b3",
   "metadata": {},
   "outputs": [
    {
     "data": {
      "image/png": "[encoded data removed]",
      "text/plain": [
       "<Figure size 432x288 with 1 Axes>"
      ]
     },
     "metadata": {
      "needs_background": "light"
     },
     "output_type": "display_data"
    },
    {
     "data": {
      "image/png": "[encoded data removed]",
      "text/plain": [
       "<Figure size 432x288 with 1 Axes>"
      ]
     },
     "metadata": {
      "needs_background": "light"
     },
     "output_type": "display_data"
    },
    {
     "data": {
      "image/png": "[encoded data removed]",
      "text/plain": [
       "<Figure size 432x288 with 1 Axes>"
      ]
     },
     "metadata": {
      "needs_background": "light"
     },
     "output_type": "display_data"
    }
   ],
   "source": [
    "for i in range(2,5):\n",
    "    series.rolling(i).mean().plot()\n",
    "    plt.title(\"MA\"+str(i))\n",
    "    plt.show()"
   ]
  },
  {
   "cell_type": "markdown",
   "id": "7567939d",
   "metadata": {},
   "source": [
    "### Time series decomposition"
   ]
  },
  {
   "cell_type": "code",
   "execution_count": 15,
   "id": "5e432500",
   "metadata": {},
   "outputs": [],
   "source": [
    "from statsmodels.tsa.seasonal import seasonal_decompose"
   ]
  },
  {
   "cell_type": "code",
   "execution_count": 16,
   "id": "dfd4b5dc",
   "metadata": {},
   "outputs": [
    {
     "data": {
      "image/png": "[encoded data removed]",
      "text/plain": [
       "<Figure size 432x288 with 4 Axes>"
      ]
     },
     "metadata": {
      "needs_background": "light"
     },
     "output_type": "display_data"
    }
   ],
   "source": [
    "sd=seasonal_decompose(series,period=4)\n",
    "sd.plot()\n",
    "plt.show()"
   ]
  },
  {
   "cell_type": "markdown",
   "id": "555cf970",
   "metadata": {},
   "source": [
    "### Here we see that there is a constant increasing trend and seasonality component remains almost constant with some prominent changes within each season"
   ]
  },
  {
   "cell_type": "markdown",
   "id": "67ebb0fb",
   "metadata": {},
   "source": [
    "### ACF and PACF plots"
   ]
  },
  {
   "cell_type": "code",
   "execution_count": 17,
   "id": "214eb3a0",
   "metadata": {},
   "outputs": [],
   "source": [
    "from statsmodels.graphics.tsaplots import plot_acf\n",
    "from statsmodels.graphics.tsaplots import plot_pacf"
   ]
  },
  {
   "cell_type": "code",
   "execution_count": 18,
   "id": "9f6ab18b",
   "metadata": {},
   "outputs": [
    {
     "data": {
      "image/png": "[encoded data removed]",
      "text/plain": [
       "<Figure size 432x288 with 1 Axes>"
      ]
     },
     "metadata": {
      "needs_background": "light"
     },
     "output_type": "display_data"
    },
    {
     "data": {
      "image/png": "[encoded data removed]",
      "text/plain": [
       "<Figure size 432x288 with 1 Axes>"
      ]
     },
     "metadata": {
      "needs_background": "light"
     },
     "output_type": "display_data"
    }
   ],
   "source": [
    "acf = plot_acf(series,lags=4)\n",
    "acf=plot_pacf(series,lags=4)"
   ]
  },
  {
   "cell_type": "markdown",
   "id": "11b01f20",
   "metadata": {},
   "source": [
    "### Here we see that each quarter is related to the same quarter of next year"
   ]
  },
  {
   "cell_type": "markdown",
   "id": "37414919",
   "metadata": {},
   "source": [
    "## Building the models"
   ]
  },
  {
   "cell_type": "code",
   "execution_count": 44,
   "id": "1a47deb1",
   "metadata": {},
   "outputs": [],
   "source": [
    "import numpy as np\n",
    "test.set_index(np.arange(1,7),inplace=True)\n"
   ]
  },
  {
   "cell_type": "markdown",
   "id": "5ce3a0bb",
   "metadata": {},
   "source": [
    "### Simple Exponential Smoothening"
   ]
  },
  {
   "cell_type": "code",
   "execution_count": 71,
   "id": "1c94c5a8",
   "metadata": {},
   "outputs": [
    {
     "data": {
      "text/plain": [
       "2562.9181796712323"
      ]
     },
     "execution_count": 71,
     "metadata": {},
     "output_type": "execute_result"
    }
   ],
   "source": [
    "from statsmodels.tsa.holtwinters import SimpleExpSmoothing\n",
    "ses = SimpleExpSmoothing(train[\"Sales\"]).fit()\n",
    "pred = ses.predict(start=test.index[0],end=test.index[-1])\n",
    "sqrt(mse(test.Sales,pred))"
   ]
  },
  {
   "cell_type": "markdown",
   "id": "dff46580",
   "metadata": {},
   "source": [
    "### Holts method"
   ]
  },
  {
   "cell_type": "code",
   "execution_count": 75,
   "id": "f9322132",
   "metadata": {},
   "outputs": [
    {
     "data": {
      "text/plain": [
       "2445.3012042974924"
      ]
     },
     "execution_count": 75,
     "metadata": {},
     "output_type": "execute_result"
    }
   ],
   "source": [
    "from statsmodels.tsa.holtwinters import Holt\n",
    "ses = Holt(train[\"Sales\"]).fit()\n",
    "pred = ses.predict(start=test.index[0],end=test.index[-1])\n",
    "sqrt(mse(test.Sales,pred))"
   ]
  },
  {
   "cell_type": "markdown",
   "id": "50a5a193",
   "metadata": {},
   "source": [
    "### Holts winters method with additive trend and additive seasonality"
   ]
  },
  {
   "cell_type": "code",
   "execution_count": 81,
   "id": "8b4c48bc",
   "metadata": {},
   "outputs": [
    {
     "data": {
      "text/plain": [
       "2355.3278360989843"
      ]
     },
     "execution_count": 81,
     "metadata": {},
     "output_type": "execute_result"
    }
   ],
   "source": [
    "from statsmodels.tsa.holtwinters import ExponentialSmoothing\n",
    "ses = ExponentialSmoothing(train[\"Sales\"],trend='add',seasonal='add',seasonal_periods=4).fit()\n",
    "pred = ses.predict(start=test.index[0],end=test.index[-1])\n",
    "sqrt(mse(test.Sales,pred))"
   ]
  },
  {
   "cell_type": "markdown",
   "id": "0a45702a",
   "metadata": {},
   "source": [
    "### Holts winters method with additive trend and multiplicative seasonality"
   ]
  },
  {
   "cell_type": "code",
   "execution_count": 82,
   "id": "5d5b2c44",
   "metadata": {},
   "outputs": [
    {
     "data": {
      "text/plain": [
       "2460.6163472691014"
      ]
     },
     "execution_count": 82,
     "metadata": {},
     "output_type": "execute_result"
    }
   ],
   "source": [
    "from statsmodels.tsa.holtwinters import ExponentialSmoothing\n",
    "ses = ExponentialSmoothing(train[\"Sales\"],trend='add',seasonal='mul',seasonal_periods=4).fit()\n",
    "pred = ses.predict(start=test.index[0],end=test.index[-1])\n",
    "sqrt(mse(test.Sales,pred))"
   ]
  },
  {
   "cell_type": "markdown",
   "id": "f19e07ef",
   "metadata": {},
   "source": [
    "### Naive model( Pt+1=yt)"
   ]
  },
  {
   "cell_type": "code",
   "execution_count": 19,
   "id": "f242930a",
   "metadata": {},
   "outputs": [
    {
     "data": {
      "text/plain": [
       "[4017.0, 3854.0, 4936.0, 4895.0, 4333.0, 4194.0]"
      ]
     },
     "execution_count": 19,
     "metadata": {},
     "output_type": "execute_result"
    }
   ],
   "source": [
    "history = [x for x in train.Sales]\n",
    "pred = []\n",
    "for i in range(6):\n",
    "    pred.append(history[-1])\n",
    "    history.append(test.Sales[i])\n",
    "pred"
   ]
  },
  {
   "cell_type": "code",
   "execution_count": 20,
   "id": "6dd93307",
   "metadata": {},
   "outputs": [
    {
     "data": {
      "text/plain": [
       "[3854.0, 4936.0, 4895.0, 4333.0, 4194.0, 5253.0]"
      ]
     },
     "execution_count": 20,
     "metadata": {},
     "output_type": "execute_result"
    }
   ],
   "source": [
    "list(test.Sales)"
   ]
  },
  {
   "cell_type": "code",
   "execution_count": 21,
   "id": "9fce74af",
   "metadata": {},
   "outputs": [
    {
     "data": {
      "text/plain": [
       "665.2844003381812"
      ]
     },
     "execution_count": 21,
     "metadata": {},
     "output_type": "execute_result"
    }
   ],
   "source": [
    "rmse = sqrt(mse(list(test.Sales),pred))\n",
    "rmse"
   ]
  },
  {
   "cell_type": "markdown",
   "id": "6acf53c2",
   "metadata": {},
   "source": [
    "### ARIMA model"
   ]
  },
  {
   "cell_type": "code",
   "execution_count": 22,
   "id": "255aa43f",
   "metadata": {},
   "outputs": [],
   "source": [
    "from statsmodels.tsa.arima_model import ARIMA\n",
    "import warnings\n",
    "warnings.filterwarnings('ignore')"
   ]
  },
  {
   "cell_type": "code",
   "execution_count": 27,
   "id": "d835194d",
   "metadata": {},
   "outputs": [],
   "source": [
    "def arima_model(val,orde):\n",
    "    history = [x for x in train.Sales]\n",
    "    val = list(val)\n",
    "    pred = []\n",
    "    for i in range(len(val)):\n",
    "        arim_model = ARIMA(history,order=orde).fit()\n",
    "        forecast=arim_model.forecast()[0]\n",
    "        history.append(val[i])\n",
    "        pred.append(forecast)\n",
    "    rmse = sqrt(mse(list(test.Sales),pred))\n",
    "    return rmse"
   ]
  },
  {
   "cell_type": "code",
   "execution_count": 33,
   "id": "90ea1aae",
   "metadata": {},
   "outputs": [
    {
     "name": "stdout",
     "output_type": "stream",
     "text": [
      "\n",
      "(0, 0, 0)  Root mean square error is:  1800.5020677668397\n",
      "\n",
      "(0, 0, 1)  Root mean square error is:  1233.3329980121166\n",
      "\n",
      "(0, 0, 2)  Root mean square error is:  786.8821539104443\n",
      "\n",
      "(0, 0, 3)  Root mean square error is:  941.7218381479032\n",
      "\n",
      "(0, 0, 4)  Root mean square error is:  537.3424039776863\n",
      "\n",
      "(0, 1, 0)  Root mean square error is:  654.3066722515341\n",
      "\n",
      "(0, 1, 1)  Root mean square error is:  577.4604059476726\n",
      "\n",
      "(0, 1, 2)  Root mean square error is:  555.598220093313\n",
      "\n",
      "(0, 1, 3)  Root mean square error is:  476.8245200116938\n",
      "\n",
      "(0, 1, 4)  Root mean square error is:  367.78229565832\n",
      "\n",
      "(0, 2, 0)  Root mean square error is:  906.0868072809203\n",
      "\n",
      "(0, 2, 1)  Root mean square error is:  669.7505213806769\n",
      "\n",
      "(0, 2, 2)  Root mean square error is:  573.9692439236421\n",
      "\n",
      "(1, 0, 0)  Root mean square error is:  708.320340449912\n",
      "\n",
      "(1, 0, 1)  Root mean square error is:  630.7251715615841\n",
      "\n",
      "(1, 0, 2)  Root mean square error is:  602.062898504503\n",
      "\n",
      "(1, 0, 3)  Root mean square error is:  3014.4320840606183\n",
      "\n",
      "(1, 1, 0)  Root mean square error is:  654.218683491633\n",
      "\n",
      "(1, 1, 1)  Root mean square error is:  570.8216697408374\n",
      "\n",
      "(1, 1, 2)  Root mean square error is:  540.3402676567974\n",
      "\n",
      "(1, 2, 0)  Root mean square error is:  933.1801314235387\n",
      "\n",
      "(1, 2, 1)  Root mean square error is:  672.2496729007443\n",
      "\n",
      "(2, 0, 0)  Root mean square error is:  706.8648543779781\n",
      "\n",
      "(2, 0, 1)  Root mean square error is:  619.6053193920441\n",
      "\n",
      "(2, 0, 2)  Root mean square error is:  612.781907592968\n",
      "\n",
      "(2, 0, 3)  Root mean square error is:  471.5018384306748\n",
      "\n",
      "(2, 1, 0)  Root mean square error is:  420.95658919616164\n",
      "\n",
      "(2, 1, 1)  Root mean square error is:  359.1684872013419\n",
      "\n",
      "(2, 2, 0)  Root mean square error is:  748.0657364336246\n",
      "\n",
      "(2, 2, 1)  Root mean square error is:  439.2826670899478\n",
      "\n",
      "(2, 2, 2)  Root mean square error is:  466.1354974470177\n",
      "\n",
      "(3, 0, 0)  Root mean square error is:  482.78743985994686\n",
      "\n",
      "(3, 1, 0)  Root mean square error is:  252.38008867154872\n",
      "\n",
      "(3, 1, 1)  Root mean square error is:  139.93882971150103\n",
      "\n",
      "(4, 0, 0)  Root mean square error is:  432.3915563148602\n",
      "\n",
      "(4, 1, 0)  Root mean square error is:  109.4793789190977\n",
      "\n",
      "(4, 1, 1)  Root mean square error is:  107.14789456904016\n",
      "==========\n",
      "(4, 1, 1)  Best Root mean square error is:  107.14789456904016\n"
     ]
    }
   ],
   "source": [
    "brmse = 10000\n",
    "for p in range(5):\n",
    "    for d in range(5):\n",
    "        for q in range(5):\n",
    "            try:\n",
    "                rmse=arima_model(test.Sales,(p,d,q))\n",
    "                print()\n",
    "                if rmse<brmse:\n",
    "                    brmse = rmse\n",
    "                    bord = (p,d,q)\n",
    "            except:\n",
    "                continue\n",
    "            print((p,d,q),\" Root mean square error is: \",rmse)\n",
    "print(\"=\"*10)\n",
    "print(bord,\" Best Root mean square error is: \",brmse)"
   ]
  },
  {
   "cell_type": "markdown",
   "id": "b049b616",
   "metadata": {},
   "source": [
    "# Creating the best ARIMA model"
   ]
  },
  {
   "cell_type": "code",
   "execution_count": 84,
   "id": "41ea3c99",
   "metadata": {},
   "outputs": [],
   "source": [
    "history = [x for x in train.Sales]\n",
    "pred=[]\n",
    "val = list(test.Sales)\n",
    "for i in range(len(val)):\n",
    "        arim_model=ARIMA(history,order=(0,1,4)).fit()\n",
    "        forecast = arim_model.forecast()[0]\n",
    "        history.append(val[i])\n",
    "        pred.append(forecast)"
   ]
  },
  {
   "cell_type": "code",
   "execution_count": 98,
   "id": "c7aea6b5",
   "metadata": {},
   "outputs": [
    {
     "data": {
      "text/plain": [
       "Text(0, 0.5, 'Coca Cola prices')"
      ]
     },
     "execution_count": 98,
     "metadata": {},
     "output_type": "execute_result"
    },
    {
     "data": {
      "image/png": "[encoded data removed]",
      "text/plain": [
       "<Figure size 432x288 with 1 Axes>"
      ]
     },
     "metadata": {
      "needs_background": "light"
     },
     "output_type": "display_data"
    }
   ],
   "source": [
    "test.Sales.plot()\n",
    "plt.title(\"Test data\")\n",
    "plt.xlabel(\"Quarter\")\n",
    "plt.ylabel(\"Coca Cola prices\")"
   ]
  },
  {
   "cell_type": "code",
   "execution_count": 97,
   "id": "d749d504",
   "metadata": {},
   "outputs": [
    {
     "data": {
      "text/plain": [
       "Text(0, 0.5, 'Coca Cola prices')"
      ]
     },
     "execution_count": 97,
     "metadata": {},
     "output_type": "execute_result"
    },
    {
     "data": {
      "image/png": "[encoded data removed]",
      "text/plain": [
       "<Figure size 432x288 with 1 Axes>"
      ]
     },
     "metadata": {
      "needs_background": "light"
     },
     "output_type": "display_data"
    }
   ],
   "source": [
    "plt.plot(pred)\n",
    "plt.title(\"Predictions\")\n",
    "plt.xlabel(\"Quarter\")\n",
    "plt.ylabel(\"Coca Cola prices\")"
   ]
  }
 ],
 "metadata": {
  "kernelspec": {
   "display_name": "Python 3",
   "language": "python",
   "name": "python3"
  },
  "language_info": {
   "codemirror_mode": {
    "name": "ipython",
    "version": 3
   },
   "file_extension": ".py",
   "mimetype": "text/x-python",
   "name": "python",
   "nbconvert_exporter": "python",
   "pygments_lexer": "ipython3",
   "version": "3.8.8"
  }
 },
 "nbformat": 4,
 "nbformat_minor": 5
}
